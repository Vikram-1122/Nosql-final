{
 "cells": [
  {
   "cell_type": "code",
   "execution_count": 9,
   "id": "dddd1e6e-2ea9-4aca-8571-7dda488f2aaa",
   "metadata": {},
   "outputs": [
    {
     "name": "stdout",
     "output_type": "stream",
     "text": [
      "['Lyon', 'Paris', 'Nice', 'Lyon', 'Paris', 'Nice']\n"
     ]
    }
   ],
   "source": [
    "from neo4j import GraphDatabase\n",
    "\n",
    "# Neo4j Connection\n",
    "neo4j_driver = GraphDatabase.driver(\"neo4j+s://b6fb340d.databases.neo4j.io\", auth=(\"neo4j\", \"japoI-OjuxfoB1iXOThbea1PvUUqIzDBcz0sVu7foKQ\"))\n",
    "\n",
    "def get_neo4j_data(country_name):\n",
    "    with neo4j_driver.session() as session:\n",
    "        result = session.run(\"\"\"\n",
    "            MATCH (c:Country {name: $country_name})-[:LOCATED_IN]->(d:Destination)\n",
    "            RETURN d.name AS destinations\n",
    "        \"\"\", country_name=country_name)\n",
    "        return [record[\"destinations\"] for record in result]\n",
    "\n",
    "# Example Usage\n",
    "if __name__ == \"__main__\":\n",
    "    print(get_neo4j_data(\"France\"))\n"
   ]
  },
  {
   "cell_type": "code",
   "execution_count": 17,
   "id": "789e8aea-28b0-4a1b-970f-72e912d4dc7b",
   "metadata": {},
   "outputs": [
    {
     "name": "stdout",
     "output_type": "stream",
     "text": [
      "Countries in the database:\n",
      "- France\n",
      "- France\n",
      "- United States\n",
      "- United Kingdom\n",
      "- United Arab Emirates\n",
      "- Italy\n",
      "- Japan\n",
      "- India\n",
      "- Australia\n",
      "- Brazil\n",
      "- South Africa\n",
      "- USA\n",
      "- UK\n",
      "- Canada\n",
      "- Germany\n"
     ]
    }
   ],
   "source": [
    "from neo4j import GraphDatabase\n",
    "\n",
    "# Neo4j Connection\n",
    "neo4j_driver = GraphDatabase.driver(\"neo4j+s://b6fb340d.databases.neo4j.io\", auth=(\"neo4j\", \"japoI-OjuxfoB1iXOThbea1PvUUqIzDBcz0sVu7foKQ\"))\n",
    "\n",
    "def get_all_countries():\n",
    "    with neo4j_driver.session() as session:\n",
    "        result = session.run(\"\"\"\n",
    "            MATCH (c:Country)\n",
    "            RETURN c.name AS country_name\n",
    "        \"\"\")\n",
    "        return [record[\"country_name\"] for record in result]\n",
    "\n",
    "# Example Usage\n",
    "if __name__ == \"__main__\":\n",
    "    countries = get_all_countries()  # Correct function name\n",
    "    print(\"Countries in the database:\")\n",
    "    for country in countries:  # Ensure consistent variable names\n",
    "        print(\"-\", country)\n"
   ]
  },
  {
   "cell_type": "code",
   "execution_count": null,
   "id": "82c36d5c-dd25-4985-a8cd-c19218e844ed",
   "metadata": {},
   "outputs": [],
   "source": []
  }
 ],
 "metadata": {
  "kernelspec": {
   "display_name": "Python 3 (ipykernel)",
   "language": "python",
   "name": "python3"
  },
  "language_info": {
   "codemirror_mode": {
    "name": "ipython",
    "version": 3
   },
   "file_extension": ".py",
   "mimetype": "text/x-python",
   "name": "python",
   "nbconvert_exporter": "python",
   "pygments_lexer": "ipython3",
   "version": "3.12.5"
  }
 },
 "nbformat": 4,
 "nbformat_minor": 5
}

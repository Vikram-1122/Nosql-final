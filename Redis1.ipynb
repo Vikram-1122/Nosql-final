{
 "cells": [
  {
   "cell_type": "code",
   "execution_count": 1,
   "id": "625e81b5-0a0c-4755-88c3-8cecda68707d",
   "metadata": {},
   "outputs": [
    {
     "name": "stdout",
     "output_type": "stream",
     "text": [
      "{'weather': 'Mild and sunny', 'activities': []}\n"
     ]
    }
   ],
   "source": [
    "import redis\n",
    "\n",
    "# Redis Connection\n",
    "redis_client = redis.StrictRedis(host='localhost', port=6379, decode_responses=True)\n",
    "\n",
    "def get_redis_data(destination):\n",
    "    weather = redis_client.hget(f\"destination:{destination}\", \"weather\")\n",
    "    activities = redis_client.lrange(f\"activities:{destination}\", 0, -1)\n",
    "    return {\"weather\": weather, \"activities\": activities}\n",
    "\n",
    "# Example Usage\n",
    "if __name__ == \"__main__\":\n",
    "    print(get_redis_data(\"paris\"))\n"
   ]
  },
  {
   "cell_type": "code",
   "execution_count": null,
   "id": "92161826-3837-4037-9f45-743ba16630e9",
   "metadata": {},
   "outputs": [],
   "source": []
  }
 ],
 "metadata": {
  "kernelspec": {
   "display_name": "Python 3 (ipykernel)",
   "language": "python",
   "name": "python3"
  },
  "language_info": {
   "codemirror_mode": {
    "name": "ipython",
    "version": 3
   },
   "file_extension": ".py",
   "mimetype": "text/x-python",
   "name": "python",
   "nbconvert_exporter": "python",
   "pygments_lexer": "ipython3",
   "version": "3.12.5"
  }
 },
 "nbformat": 4,
 "nbformat_minor": 5
}

{
 "cells": [
  {
   "cell_type": "code",
   "execution_count": null,
   "id": "fb90e642-13d9-46cb-a482-a4cad0aef56c",
   "metadata": {},
   "outputs": [
    {
     "name": "stdout",
     "output_type": "stream",
     "text": [
      "Travel Platform Viewer\n",
      "1. View All Destinations\n",
      "2. Search Destination by Name\n"
     ]
    }
   ],
   "source": [
    "from pymongo import MongoClient\n",
    "\n",
    "# MongoDB connection\n",
    "client = MongoClient('mongodb://localhost:27017/')  \n",
    "db = client['travel_platform']\n",
    "destinations_collection = db['destinations']\n",
    "\n",
    "# Function to display all destinations\n",
    "def view_all_destinations():\n",
    "    print(\"Fetching all destinations...\\n\")\n",
    "    destinations = destinations_collection.find()\n",
    "    for destination in destinations:\n",
    "        print(f\"Destination ID: {destination['destination_id']}\")\n",
    "        print(f\"Name: {destination['name']}\")\n",
    "        print(f\"Country: {destination['country']}\")\n",
    "        print(f\"Timezone: {destination['timezone']}\")\n",
    "        print(f\"Best Season: {destination['best_season']}\")\n",
    "        print(f\"Weather: {destination['weather']}\")\n",
    "        print(\"Landmarks:\")\n",
    "        for landmark in destination['landmarks']:\n",
    "            print(f\"  - {landmark}\")\n",
    "        print(\"Accommodations:\")\n",
    "        for accom in destination['accommodations']:\n",
    "            print(f\"  - {accom['name']} (Rating: {accom['rating']}, Price: ${accom['price_per_night']}/night)\")\n",
    "        print(\"Itineraries:\")\n",
    "        for itinerary in destination['itineraries']:\n",
    "            print(f\"  Day {itinerary['day']}: {', '.join(itinerary['activities'])}\")\n",
    "        print(f\"Travel Tips: {destination['travel_tips']}\")\n",
    "        print(f\"Nearest Airports: {', '.join(destination['nearest_airports'])}\")\n",
    "        print(\"\\n\" + \"-\"*50 + \"\\n\")\n",
    "\n",
    "# Function to search for a specific destination\n",
    "def search_destination(name):\n",
    "    destination = destinations_collection.find_one({\"name\": name})\n",
    "    if destination:\n",
    "        print(f\"Details for {name}:\")\n",
    "        print(f\"Country: {destination['country']}\")\n",
    "        print(f\"Timezone: {destination['timezone']}\")\n",
    "        print(f\"Best Season: {destination['best_season']}\")\n",
    "        print(f\"Weather: {destination['weather']}\")\n",
    "        print(\"Landmarks:\")\n",
    "        for landmark in destination['landmarks']:\n",
    "            print(f\"  - {landmark}\")\n",
    "        print(\"Accommodations:\")\n",
    "        for accom in destination['accommodations']:\n",
    "            print(f\"  - {accom['name']} (Rating: {accom['rating']}, Price: ${accom['price_per_night']}/night)\")\n",
    "        print(\"Itineraries:\")\n",
    "        for itinerary in destination['itineraries']:\n",
    "            print(f\"  Day {itinerary['day']}: {', '.join(itinerary['activities'])}\")\n",
    "        print(f\"Travel Tips: {destination['travel_tips']}\")\n",
    "        print(f\"Nearest Airports: {', '.join(destination['nearest_airports'])}\")\n",
    "    else:\n",
    "        print(f\"No destination found with the name {name}.\")\n",
    "\n",
    "# Main menu\n",
    "if __name__ == \"__main__\":\n",
    "    print(\"Travel Platform Viewer\")\n",
    "    print(\"1. View All Destinations\")\n",
    "    print(\"2. Search Destination by Name\")\n",
    "    choice = input(\"Enter your choice (1/2): \")\n",
    "    if choice == \"1\":\n",
    "        view_all_destinations()\n",
    "    elif choice == \"2\":\n",
    "        search_name = input(\"Enter the name of the destination (e.g., Paris): \")\n",
    "        search_destination(search_name)\n",
    "    else:\n",
    "        print(\"Invalid choice. Exiting.\")\n"
   ]
  },
  {
   "cell_type": "code",
   "execution_count": null,
   "id": "71d6dc50",
   "metadata": {},
   "outputs": [],
   "source": []
  },
  {
   "cell_type": "code",
   "execution_count": 1,
   "id": "0a7312e6-4f04-4549-b4b7-8983685bdc65",
   "metadata": {},
   "outputs": [
    {
     "name": "stdout",
     "output_type": "stream",
     "text": [
      "{'_id': ObjectId('67717c747b9625fbb1bf321a'), 'destination_id': 'paris_1', 'name': 'Paris', 'country': 'France', 'accommodations': [{'name': 'Hotel de Paris', 'rating': 4.5, 'price_per_night': 150}, {'name': 'Hostel Paris', 'rating': 3.8, 'price_per_night': 50}], 'itineraries': [{'day': 1, 'activities': ['Eiffel Tower', 'Louvre Museum']}, {'day': 2, 'activities': ['Notre-Dame Cathedral', 'Seine River Cruise']}]}\n",
      "{'_id': ObjectId('67717c9e803c3d5c7ed530bc'), 'destination_id': 'paris_1', 'name': 'Paris', 'country': 'France', 'accommodations': [{'name': 'Hotel de Paris', 'rating': 4.5, 'price_per_night': 150}, {'name': 'Hostel Paris', 'rating': 3.8, 'price_per_night': 50}], 'itineraries': [{'day': 1, 'activities': ['Eiffel Tower', 'Louvre Museum']}, {'day': 2, 'activities': ['Notre-Dame Cathedral', 'Seine River Cruise']}]}\n",
      "{'_id': ObjectId('67717caf803c3d5c7ed530be'), 'destination_id': 'paris_1', 'name': 'Paris', 'country': 'France', 'accommodations': [{'name': 'Hotel de Paris', 'rating': 4.5, 'price_per_night': 150}, {'name': 'Hostel Paris', 'rating': 3.8, 'price_per_night': 50}], 'itineraries': [{'day': 1, 'activities': ['Eiffel Tower', 'Louvre Museum']}, {'day': 2, 'activities': ['Notre-Dame Cathedral', 'Seine River Cruise']}]}\n",
      "{'_id': ObjectId('67717cbf803c3d5c7ed530c0'), 'destination_id': 'paris_1', 'name': 'Paris', 'country': 'France', 'accommodations': [{'name': 'Hotel de Paris', 'rating': 4.5, 'price_per_night': 150}, {'name': 'Hostel Paris', 'rating': 3.8, 'price_per_night': 50}], 'itineraries': [{'day': 1, 'activities': ['Eiffel Tower', 'Louvre Museum']}, {'day': 2, 'activities': ['Notre-Dame Cathedral', 'Seine River Cruise']}]}\n"
     ]
    }
   ],
   "source": [
    "from pymongo import MongoClient\n",
    "\n",
    "# MongoDB Connection\n",
    "mongo_client = MongoClient(\"mongodb://localhost:27017/\")\n",
    "mongo_db = mongo_client[\"travel_platform\"]\n",
    "mongo_destinations = mongo_db[\"destinations\"]\n",
    "\n",
    "# Verify data\n",
    "for destination in mongo_destinations.find():\n",
    "    print(destination)\n"
   ]
  }
 ],
 "metadata": {
  "kernelspec": {
   "display_name": "base",
   "language": "python",
   "name": "python3"
  },
  "language_info": {
   "codemirror_mode": {
    "name": "ipython",
    "version": 3
   },
   "file_extension": ".py",
   "mimetype": "text/x-python",
   "name": "python",
   "nbconvert_exporter": "python",
   "pygments_lexer": "ipython3",
   "version": "3.12.5"
  }
 },
 "nbformat": 4,
 "nbformat_minor": 5
}
